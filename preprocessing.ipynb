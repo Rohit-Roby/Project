{
  "nbformat": 4,
  "nbformat_minor": 0,
  "metadata": {
    "colab": {
      "provenance": [],
      "machine_shape": "hm",
      "gpuType": "L4",
      "authorship_tag": "ABX9TyNfswjBXZAth+zLJ3VU54m8",
      "include_colab_link": true
    },
    "kernelspec": {
      "name": "python3",
      "display_name": "Python 3"
    },
    "language_info": {
      "name": "python"
    },
    "accelerator": "GPU"
  },
  "cells": [
    {
      "cell_type": "markdown",
      "metadata": {
        "id": "view-in-github",
        "colab_type": "text"
      },
      "source": [
        "<a href=\"https://colab.research.google.com/github/Rohit-Roby/Project/blob/main/preprocessing.ipynb\" target=\"_parent\"><img src=\"https://colab.research.google.com/assets/colab-badge.svg\" alt=\"Open In Colab\"/></a>"
      ]
    },
    {
      "cell_type": "code",
      "execution_count": 6,
      "metadata": {
        "colab": {
          "base_uri": "https://localhost:8080/",
          "height": 1000
        },
        "id": "xgDHXSVbt0m8",
        "outputId": "e85b86f4-1c4d-4c8d-a52c-f12abe1f790c"
      },
      "outputs": [
        {
          "output_type": "stream",
          "name": "stdout",
          "text": [
            "Collecting objaverse\n",
            "  Downloading objaverse-0.1.7-py3-none-any.whl (32 kB)\n",
            "Requirement already satisfied: requests in /usr/local/lib/python3.10/dist-packages (from objaverse) (2.31.0)\n",
            "Requirement already satisfied: pandas in /usr/local/lib/python3.10/dist-packages (from objaverse) (2.0.3)\n",
            "Requirement already satisfied: pyarrow in /usr/local/lib/python3.10/dist-packages (from objaverse) (14.0.2)\n",
            "Requirement already satisfied: tqdm in /usr/local/lib/python3.10/dist-packages (from objaverse) (4.66.2)\n",
            "Collecting loguru (from objaverse)\n",
            "  Downloading loguru-0.7.2-py3-none-any.whl (62 kB)\n",
            "\u001b[?25l     \u001b[90m━━━━━━━━━━━━━━━━━━━━━━━━━━━━━━━━━━━━━━━━\u001b[0m \u001b[32m0.0/62.5 kB\u001b[0m \u001b[31m?\u001b[0m eta \u001b[36m-:--:--\u001b[0m\r\u001b[2K     \u001b[90m━━━━━━━━━━━━━━━━━━━━━━━━━━━━━━━━━━━━━━━━\u001b[0m \u001b[32m62.5/62.5 kB\u001b[0m \u001b[31m3.1 MB/s\u001b[0m eta \u001b[36m0:00:00\u001b[0m\n",
            "\u001b[?25hRequirement already satisfied: fsspec>=2022.11.0 in /usr/local/lib/python3.10/dist-packages (from objaverse) (2023.6.0)\n",
            "Collecting gputil==1.4.0 (from objaverse)\n",
            "  Downloading GPUtil-1.4.0.tar.gz (5.5 kB)\n",
            "  Preparing metadata (setup.py) ... \u001b[?25l\u001b[?25hdone\n",
            "Requirement already satisfied: python-dateutil>=2.8.2 in /usr/local/lib/python3.10/dist-packages (from pandas->objaverse) (2.8.2)\n",
            "Requirement already satisfied: pytz>=2020.1 in /usr/local/lib/python3.10/dist-packages (from pandas->objaverse) (2023.4)\n",
            "Requirement already satisfied: tzdata>=2022.1 in /usr/local/lib/python3.10/dist-packages (from pandas->objaverse) (2024.1)\n",
            "Requirement already satisfied: numpy>=1.21.0 in /usr/local/lib/python3.10/dist-packages (from pandas->objaverse) (1.25.2)\n",
            "Requirement already satisfied: charset-normalizer<4,>=2 in /usr/local/lib/python3.10/dist-packages (from requests->objaverse) (3.3.2)\n",
            "Requirement already satisfied: idna<4,>=2.5 in /usr/local/lib/python3.10/dist-packages (from requests->objaverse) (3.7)\n",
            "Requirement already satisfied: urllib3<3,>=1.21.1 in /usr/local/lib/python3.10/dist-packages (from requests->objaverse) (2.0.7)\n",
            "Requirement already satisfied: certifi>=2017.4.17 in /usr/local/lib/python3.10/dist-packages (from requests->objaverse) (2024.2.2)\n",
            "Requirement already satisfied: six>=1.5 in /usr/local/lib/python3.10/dist-packages (from python-dateutil>=2.8.2->pandas->objaverse) (1.16.0)\n",
            "Building wheels for collected packages: gputil\n",
            "  Building wheel for gputil (setup.py) ... \u001b[?25l\u001b[?25hdone\n",
            "  Created wheel for gputil: filename=GPUtil-1.4.0-py3-none-any.whl size=7394 sha256=5076444cf627cf90b65c5284b4c55bcf54b19ba2c40a0131e4e5a9c832c86731\n",
            "  Stored in directory: /root/.cache/pip/wheels/a9/8a/bd/81082387151853ab8b6b3ef33426e98f5cbfebc3c397a9d4d0\n",
            "Successfully built gputil\n",
            "Installing collected packages: gputil, loguru, objaverse\n",
            "Successfully installed gputil-1.4.0 loguru-0.7.2 objaverse-0.1.7\n",
            "Collecting trimesh\n",
            "  Downloading trimesh-4.3.2-py3-none-any.whl (693 kB)\n",
            "\u001b[2K     \u001b[90m━━━━━━━━━━━━━━━━━━━━━━━━━━━━━━━━━━━━━━━━\u001b[0m \u001b[32m693.9/693.9 kB\u001b[0m \u001b[31m9.7 MB/s\u001b[0m eta \u001b[36m0:00:00\u001b[0m\n",
            "\u001b[?25hRequirement already satisfied: numpy>=1.20 in /usr/local/lib/python3.10/dist-packages (from trimesh) (1.25.2)\n",
            "Installing collected packages: trimesh\n",
            "Successfully installed trimesh-4.3.2\n",
            "Collecting open3d\n",
            "  Downloading open3d-0.18.0-cp310-cp310-manylinux_2_27_x86_64.whl (399.7 MB)\n",
            "\u001b[2K     \u001b[90m━━━━━━━━━━━━━━━━━━━━━━━━━━━━━━━━━━━━━━━━\u001b[0m \u001b[32m399.7/399.7 MB\u001b[0m \u001b[31m2.6 MB/s\u001b[0m eta \u001b[36m0:00:00\u001b[0m\n",
            "\u001b[?25hRequirement already satisfied: numpy>=1.18.0 in /usr/local/lib/python3.10/dist-packages (from open3d) (1.25.2)\n",
            "Collecting dash>=2.6.0 (from open3d)\n",
            "  Downloading dash-2.16.1-py3-none-any.whl (10.2 MB)\n",
            "\u001b[2K     \u001b[90m━━━━━━━━━━━━━━━━━━━━━━━━━━━━━━━━━━━━━━━━\u001b[0m \u001b[32m10.2/10.2 MB\u001b[0m \u001b[31m105.7 MB/s\u001b[0m eta \u001b[36m0:00:00\u001b[0m\n",
            "\u001b[?25hRequirement already satisfied: werkzeug>=2.2.3 in /usr/local/lib/python3.10/dist-packages (from open3d) (3.0.2)\n",
            "Requirement already satisfied: nbformat>=5.7.0 in /usr/local/lib/python3.10/dist-packages (from open3d) (5.10.4)\n",
            "Collecting configargparse (from open3d)\n",
            "  Downloading ConfigArgParse-1.7-py3-none-any.whl (25 kB)\n",
            "Collecting ipywidgets>=8.0.4 (from open3d)\n",
            "  Downloading ipywidgets-8.1.2-py3-none-any.whl (139 kB)\n",
            "\u001b[2K     \u001b[90m━━━━━━━━━━━━━━━━━━━━━━━━━━━━━━━━━━━━━━━━\u001b[0m \u001b[32m139.4/139.4 kB\u001b[0m \u001b[31m18.7 MB/s\u001b[0m eta \u001b[36m0:00:00\u001b[0m\n",
            "\u001b[?25hCollecting addict (from open3d)\n",
            "  Downloading addict-2.4.0-py3-none-any.whl (3.8 kB)\n",
            "Requirement already satisfied: pillow>=9.3.0 in /usr/local/lib/python3.10/dist-packages (from open3d) (9.4.0)\n",
            "Requirement already satisfied: matplotlib>=3 in /usr/local/lib/python3.10/dist-packages (from open3d) (3.7.1)\n",
            "Requirement already satisfied: pandas>=1.0 in /usr/local/lib/python3.10/dist-packages (from open3d) (2.0.3)\n",
            "Requirement already satisfied: pyyaml>=5.4.1 in /usr/local/lib/python3.10/dist-packages (from open3d) (6.0.1)\n",
            "Requirement already satisfied: scikit-learn>=0.21 in /usr/local/lib/python3.10/dist-packages (from open3d) (1.2.2)\n",
            "Requirement already satisfied: tqdm in /usr/local/lib/python3.10/dist-packages (from open3d) (4.66.2)\n",
            "Collecting pyquaternion (from open3d)\n",
            "  Downloading pyquaternion-0.9.9-py3-none-any.whl (14 kB)\n",
            "Requirement already satisfied: Flask<3.1,>=1.0.4 in /usr/local/lib/python3.10/dist-packages (from dash>=2.6.0->open3d) (2.2.5)\n",
            "Requirement already satisfied: plotly>=5.0.0 in /usr/local/lib/python3.10/dist-packages (from dash>=2.6.0->open3d) (5.15.0)\n",
            "Collecting dash-html-components==2.0.0 (from dash>=2.6.0->open3d)\n",
            "  Downloading dash_html_components-2.0.0-py3-none-any.whl (4.1 kB)\n",
            "Collecting dash-core-components==2.0.0 (from dash>=2.6.0->open3d)\n",
            "  Downloading dash_core_components-2.0.0-py3-none-any.whl (3.8 kB)\n",
            "Collecting dash-table==5.0.0 (from dash>=2.6.0->open3d)\n",
            "  Downloading dash_table-5.0.0-py3-none-any.whl (3.9 kB)\n",
            "Requirement already satisfied: importlib-metadata in /usr/local/lib/python3.10/dist-packages (from dash>=2.6.0->open3d) (7.1.0)\n",
            "Requirement already satisfied: typing-extensions>=4.1.1 in /usr/local/lib/python3.10/dist-packages (from dash>=2.6.0->open3d) (4.11.0)\n",
            "Requirement already satisfied: requests in /usr/local/lib/python3.10/dist-packages (from dash>=2.6.0->open3d) (2.31.0)\n",
            "Collecting retrying (from dash>=2.6.0->open3d)\n",
            "  Downloading retrying-1.3.4-py3-none-any.whl (11 kB)\n",
            "Requirement already satisfied: nest-asyncio in /usr/local/lib/python3.10/dist-packages (from dash>=2.6.0->open3d) (1.6.0)\n",
            "Requirement already satisfied: setuptools in /usr/local/lib/python3.10/dist-packages (from dash>=2.6.0->open3d) (67.7.2)\n",
            "Collecting comm>=0.1.3 (from ipywidgets>=8.0.4->open3d)\n",
            "  Downloading comm-0.2.2-py3-none-any.whl (7.2 kB)\n",
            "Requirement already satisfied: ipython>=6.1.0 in /usr/local/lib/python3.10/dist-packages (from ipywidgets>=8.0.4->open3d) (7.34.0)\n",
            "Requirement already satisfied: traitlets>=4.3.1 in /usr/local/lib/python3.10/dist-packages (from ipywidgets>=8.0.4->open3d) (5.7.1)\n",
            "Collecting widgetsnbextension~=4.0.10 (from ipywidgets>=8.0.4->open3d)\n",
            "  Downloading widgetsnbextension-4.0.10-py3-none-any.whl (2.3 MB)\n",
            "\u001b[2K     \u001b[90m━━━━━━━━━━━━━━━━━━━━━━━━━━━━━━━━━━━━━━━━\u001b[0m \u001b[32m2.3/2.3 MB\u001b[0m \u001b[31m86.9 MB/s\u001b[0m eta \u001b[36m0:00:00\u001b[0m\n",
            "\u001b[?25hRequirement already satisfied: jupyterlab-widgets~=3.0.10 in /usr/local/lib/python3.10/dist-packages (from ipywidgets>=8.0.4->open3d) (3.0.10)\n",
            "Requirement already satisfied: contourpy>=1.0.1 in /usr/local/lib/python3.10/dist-packages (from matplotlib>=3->open3d) (1.2.1)\n",
            "Requirement already satisfied: cycler>=0.10 in /usr/local/lib/python3.10/dist-packages (from matplotlib>=3->open3d) (0.12.1)\n",
            "Requirement already satisfied: fonttools>=4.22.0 in /usr/local/lib/python3.10/dist-packages (from matplotlib>=3->open3d) (4.51.0)\n",
            "Requirement already satisfied: kiwisolver>=1.0.1 in /usr/local/lib/python3.10/dist-packages (from matplotlib>=3->open3d) (1.4.5)\n",
            "Requirement already satisfied: packaging>=20.0 in /usr/local/lib/python3.10/dist-packages (from matplotlib>=3->open3d) (24.0)\n",
            "Requirement already satisfied: pyparsing>=2.3.1 in /usr/local/lib/python3.10/dist-packages (from matplotlib>=3->open3d) (3.1.2)\n",
            "Requirement already satisfied: python-dateutil>=2.7 in /usr/local/lib/python3.10/dist-packages (from matplotlib>=3->open3d) (2.8.2)\n",
            "Requirement already satisfied: fastjsonschema>=2.15 in /usr/local/lib/python3.10/dist-packages (from nbformat>=5.7.0->open3d) (2.19.1)\n",
            "Requirement already satisfied: jsonschema>=2.6 in /usr/local/lib/python3.10/dist-packages (from nbformat>=5.7.0->open3d) (4.19.2)\n",
            "Requirement already satisfied: jupyter-core!=5.0.*,>=4.12 in /usr/local/lib/python3.10/dist-packages (from nbformat>=5.7.0->open3d) (5.7.2)\n",
            "Requirement already satisfied: pytz>=2020.1 in /usr/local/lib/python3.10/dist-packages (from pandas>=1.0->open3d) (2023.4)\n",
            "Requirement already satisfied: tzdata>=2022.1 in /usr/local/lib/python3.10/dist-packages (from pandas>=1.0->open3d) (2024.1)\n",
            "Requirement already satisfied: scipy>=1.3.2 in /usr/local/lib/python3.10/dist-packages (from scikit-learn>=0.21->open3d) (1.11.4)\n",
            "Requirement already satisfied: joblib>=1.1.1 in /usr/local/lib/python3.10/dist-packages (from scikit-learn>=0.21->open3d) (1.4.0)\n",
            "Requirement already satisfied: threadpoolctl>=2.0.0 in /usr/local/lib/python3.10/dist-packages (from scikit-learn>=0.21->open3d) (3.4.0)\n",
            "Requirement already satisfied: MarkupSafe>=2.1.1 in /usr/local/lib/python3.10/dist-packages (from werkzeug>=2.2.3->open3d) (2.1.5)\n",
            "Requirement already satisfied: Jinja2>=3.0 in /usr/local/lib/python3.10/dist-packages (from Flask<3.1,>=1.0.4->dash>=2.6.0->open3d) (3.1.3)\n",
            "Requirement already satisfied: itsdangerous>=2.0 in /usr/local/lib/python3.10/dist-packages (from Flask<3.1,>=1.0.4->dash>=2.6.0->open3d) (2.2.0)\n",
            "Requirement already satisfied: click>=8.0 in /usr/local/lib/python3.10/dist-packages (from Flask<3.1,>=1.0.4->dash>=2.6.0->open3d) (8.1.7)\n",
            "Collecting jedi>=0.16 (from ipython>=6.1.0->ipywidgets>=8.0.4->open3d)\n",
            "  Downloading jedi-0.19.1-py2.py3-none-any.whl (1.6 MB)\n",
            "\u001b[2K     \u001b[90m━━━━━━━━━━━━━━━━━━━━━━━━━━━━━━━━━━━━━━━━\u001b[0m \u001b[32m1.6/1.6 MB\u001b[0m \u001b[31m83.4 MB/s\u001b[0m eta \u001b[36m0:00:00\u001b[0m\n",
            "\u001b[?25hRequirement already satisfied: decorator in /usr/local/lib/python3.10/dist-packages (from ipython>=6.1.0->ipywidgets>=8.0.4->open3d) (4.4.2)\n",
            "Requirement already satisfied: pickleshare in /usr/local/lib/python3.10/dist-packages (from ipython>=6.1.0->ipywidgets>=8.0.4->open3d) (0.7.5)\n",
            "Requirement already satisfied: prompt-toolkit!=3.0.0,!=3.0.1,<3.1.0,>=2.0.0 in /usr/local/lib/python3.10/dist-packages (from ipython>=6.1.0->ipywidgets>=8.0.4->open3d) (3.0.43)\n",
            "Requirement already satisfied: pygments in /usr/local/lib/python3.10/dist-packages (from ipython>=6.1.0->ipywidgets>=8.0.4->open3d) (2.16.1)\n",
            "Requirement already satisfied: backcall in /usr/local/lib/python3.10/dist-packages (from ipython>=6.1.0->ipywidgets>=8.0.4->open3d) (0.2.0)\n",
            "Requirement already satisfied: matplotlib-inline in /usr/local/lib/python3.10/dist-packages (from ipython>=6.1.0->ipywidgets>=8.0.4->open3d) (0.1.7)\n",
            "Requirement already satisfied: pexpect>4.3 in /usr/local/lib/python3.10/dist-packages (from ipython>=6.1.0->ipywidgets>=8.0.4->open3d) (4.9.0)\n",
            "Requirement already satisfied: attrs>=22.2.0 in /usr/local/lib/python3.10/dist-packages (from jsonschema>=2.6->nbformat>=5.7.0->open3d) (23.2.0)\n",
            "Requirement already satisfied: jsonschema-specifications>=2023.03.6 in /usr/local/lib/python3.10/dist-packages (from jsonschema>=2.6->nbformat>=5.7.0->open3d) (2023.12.1)\n",
            "Requirement already satisfied: referencing>=0.28.4 in /usr/local/lib/python3.10/dist-packages (from jsonschema>=2.6->nbformat>=5.7.0->open3d) (0.34.0)\n",
            "Requirement already satisfied: rpds-py>=0.7.1 in /usr/local/lib/python3.10/dist-packages (from jsonschema>=2.6->nbformat>=5.7.0->open3d) (0.18.0)\n",
            "Requirement already satisfied: platformdirs>=2.5 in /usr/local/lib/python3.10/dist-packages (from jupyter-core!=5.0.*,>=4.12->nbformat>=5.7.0->open3d) (4.2.0)\n",
            "Requirement already satisfied: tenacity>=6.2.0 in /usr/local/lib/python3.10/dist-packages (from plotly>=5.0.0->dash>=2.6.0->open3d) (8.2.3)\n",
            "Requirement already satisfied: six>=1.5 in /usr/local/lib/python3.10/dist-packages (from python-dateutil>=2.7->matplotlib>=3->open3d) (1.16.0)\n",
            "Requirement already satisfied: zipp>=0.5 in /usr/local/lib/python3.10/dist-packages (from importlib-metadata->dash>=2.6.0->open3d) (3.18.1)\n",
            "Requirement already satisfied: charset-normalizer<4,>=2 in /usr/local/lib/python3.10/dist-packages (from requests->dash>=2.6.0->open3d) (3.3.2)\n",
            "Requirement already satisfied: idna<4,>=2.5 in /usr/local/lib/python3.10/dist-packages (from requests->dash>=2.6.0->open3d) (3.7)\n",
            "Requirement already satisfied: urllib3<3,>=1.21.1 in /usr/local/lib/python3.10/dist-packages (from requests->dash>=2.6.0->open3d) (2.0.7)\n",
            "Requirement already satisfied: certifi>=2017.4.17 in /usr/local/lib/python3.10/dist-packages (from requests->dash>=2.6.0->open3d) (2024.2.2)\n",
            "Requirement already satisfied: parso<0.9.0,>=0.8.3 in /usr/local/lib/python3.10/dist-packages (from jedi>=0.16->ipython>=6.1.0->ipywidgets>=8.0.4->open3d) (0.8.4)\n",
            "Requirement already satisfied: ptyprocess>=0.5 in /usr/local/lib/python3.10/dist-packages (from pexpect>4.3->ipython>=6.1.0->ipywidgets>=8.0.4->open3d) (0.7.0)\n",
            "Requirement already satisfied: wcwidth in /usr/local/lib/python3.10/dist-packages (from prompt-toolkit!=3.0.0,!=3.0.1,<3.1.0,>=2.0.0->ipython>=6.1.0->ipywidgets>=8.0.4->open3d) (0.2.13)\n",
            "Installing collected packages: dash-table, dash-html-components, dash-core-components, addict, widgetsnbextension, retrying, pyquaternion, jedi, configargparse, comm, ipywidgets, dash, open3d\n",
            "  Attempting uninstall: widgetsnbextension\n",
            "    Found existing installation: widgetsnbextension 3.6.6\n",
            "    Uninstalling widgetsnbextension-3.6.6:\n",
            "      Successfully uninstalled widgetsnbextension-3.6.6\n",
            "  Attempting uninstall: ipywidgets\n",
            "    Found existing installation: ipywidgets 7.7.1\n",
            "    Uninstalling ipywidgets-7.7.1:\n",
            "      Successfully uninstalled ipywidgets-7.7.1\n",
            "Successfully installed addict-2.4.0 comm-0.2.2 configargparse-1.7 dash-2.16.1 dash-core-components-2.0.0 dash-html-components-2.0.0 dash-table-5.0.0 ipywidgets-8.1.2 jedi-0.19.1 open3d-0.18.0 pyquaternion-0.9.9 retrying-1.3.4 widgetsnbextension-4.0.10\n"
          ]
        },
        {
          "output_type": "display_data",
          "data": {
            "application/vnd.colab-display-data+json": {
              "pip_warning": {
                "packages": [
                  "ipywidgets"
                ]
              },
              "id": "6e58147bcff84a019103e3faa257b348"
            }
          },
          "metadata": {}
        },
        {
          "output_type": "stream",
          "name": "stdout",
          "text": [
            "Requirement already satisfied: torchsummary in /usr/local/lib/python3.10/dist-packages (1.5.1)\n",
            "^C\n"
          ]
        }
      ],
      "source": [
        "!pip install objaverse\n",
        "!pip install trimesh\n",
        "!pip install open3d\n",
        "!pip install torchsummary"
      ]
    },
    {
      "cell_type": "code",
      "source": [],
      "metadata": {
        "id": "25MVQlkT3A4m"
      },
      "execution_count": 6,
      "outputs": []
    },
    {
      "cell_type": "code",
      "source": [
        "# Import libraries\n",
        "import objaverse\n",
        "import nltk\n",
        "from nltk.corpus import stopwords  # for stop word removal\n",
        "from nltk.stem import PorterStemmer  # for stemming (or use WordNetLemmatizer for lemmatization)\n",
        "import string\n",
        "import trimesh\n",
        "import os\n",
        "import shutil\n",
        "import multiprocessing\n",
        "nltk.download('stopwords')\n",
        "import numpy as np\n",
        "from matplotlib import pyplot as plt\n",
        "import open3d as o3d\n",
        "import torch\n",
        "import torchsummary"
      ],
      "metadata": {
        "colab": {
          "base_uri": "https://localhost:8080/",
          "height": 52
        },
        "id": "vQN4bEG9t-YK",
        "outputId": "7bd80f42-9aac-401e-cd3e-037b3c507bdb"
      },
      "execution_count": 1,
      "outputs": [
        {
          "output_type": "stream",
          "name": "stderr",
          "text": [
            "[nltk_data] Downloading package stopwords to /root/nltk_data...\n",
            "[nltk_data]   Package stopwords is already up-to-date!\n"
          ]
        }
      ]
    },
    {
      "cell_type": "markdown",
      "source": [
        "**Loading the dataset files and dowloading 3d model**"
      ],
      "metadata": {
        "id": "InJRCoEuXK6Z"
      }
    },
    {
      "cell_type": "code",
      "source": [
        "#loading Uids\n",
        "uids = objaverse.load_uids()\n",
        "len(uids), type(uids)\n"
      ],
      "metadata": {
        "colab": {
          "base_uri": "https://localhost:8080/"
        },
        "id": "Qatz1x-8uBum",
        "outputId": "62560ba0-836f-4e62-ae0b-480c8b1671fc"
      },
      "execution_count": 2,
      "outputs": [
        {
          "output_type": "execute_result",
          "data": {
            "text/plain": [
              "(798759, list)"
            ]
          },
          "metadata": {},
          "execution_count": 2
        }
      ]
    },
    {
      "cell_type": "code",
      "source": [
        "\n",
        "# lvis_annotations\n",
        "lvis_annotations = objaverse.load_lvis_annotations()\n",
        "\n",
        "# Sort the dictionary by value in descending order and select the top 20 items\n",
        "items = dict(sorted(lvis_annotations.items(), key=lambda item: len(item[1]), reverse=True))\n",
        "items.keys()"
      ],
      "metadata": {
        "id": "oWw65sixLW5c",
        "outputId": "800202ec-eb47-4236-8a1d-47efc954d312",
        "colab": {
          "base_uri": "https://localhost:8080/"
        }
      },
      "execution_count": 3,
      "outputs": [
        {
          "output_type": "execute_result",
          "data": {
            "text/plain": [
              "dict_keys(['chair', 'seashell', 'antenna', 'shield', 'snowman', 'chandelier', 'gravestone', 'cone', 'control', 'sword', 'armor', 'doughnut', 'banana', 'ring', 'fireplug', 'mushroom', 'fighter_jet', 'figurine', 'monitor_(computer_equipment) computer_monitor', 'mug', 'owl', 'shoe', 'helicopter', 'skateboard', 'soccer_ball', 'rifle', 'teddy_bear', 'bicycle', 'die', 'guitar', 'heart', 'race_car', 'lion', 'mask', 'gun', 'pumpkin', 'rabbit', 'sculpture', 'spectacles', 'apple', 'wedding_ring', 'telephone', 'elephant', 'police_cruiser', 'airplane', 'crab_(animal)', 'globe', 'lamppost', 'lampshade', 'windmill', 'toilet', 'trunk', 'pickup_truck', 'fan', 'mascot', 'shark', 'machine_gun', 'piano', 'pony', 'motor_vehicle', 'vase', 'sunglasses', 'wolf', 'frog', 'pottery', 'bookcase', 'penguin', 'spider', 'car_(automobile)', 'keg', 'table', 'television_set', 'wineglass', 'butterfly', 'crate', 'necklace', 'computer_keyboard', 'fire_extinguisher', 'manhole', 'armchair', 'coin', 'pizza', 'sportswear', 'drum_(musical_instrument)', 'helmet', 'oil_lamp', 'statue_(sculpture)', 'elk', 'pistol', 'watch', 'earphone', 'kitten', 'knife', 'radio_receiver', 'bench', 'boot', 'dress', 'table_lamp', 'army_tank', 'giraffe', 'horse', 'lantern', 'phonograph_record', 'tablecloth', 'turtle', 'violin', 'dirt_bike', 'dresser', 'cat', 'puppy', 'dog', 'gargoyle', 'Lego', 'bowl', 'Christmas_tree', 'pop_(soda)', 'flag', 'gift_wrap', 'lightbulb', 'balloon', 'fireplace', 'icecream', 'key', 'vending_machine', 'bird', 'drone', 'flowerpot', 'motorcycle', 'sofa', 'chalice', 'fish', 'jeep', 'toy', 'lamp', 'mallet', 'pinecone', 'snake', 'traffic_light', 'water_bottle', 'gameboard', 'person', 'shirt', 'checkerboard', 'gourd', 'grizzly', 'hog', 'water_faucet', 'wheel', 'ax', 'chessboard', 'desk', 'gemstone', 'monkey', 'basketball', 'cock', 'cushion', 'kettle', 'pole', 'teapot', 'tractor_(farm_equipment)', 'barrel', 'duckling', 'gorilla', 'lizard', 'pitcher_(vessel_for_liquid)', 'alarm_clock', 'bat_(animal)', 'box', 'cube', 'headset', 'solar_array', 'beer_bottle', 'bus_(vehicle)', 'motor_scooter', 'rat', 'bouquet', 'candle_holder', 'cornice', 'cup', 'dining_table', 'dress_suit', 'hardback_book', 'beer_can', 'cupcake', 'marker', 'sponge', 'teakettle', 'award', 'baseball_cap', 'flower_arrangement', 'log', 'rhinoceros', 'signboard', 'telephone_booth', 'awning', 'brass_plaque', 'cylinder', 'jewelry', 'tag', 'wine_bucket', 'chocolate_cake', 'costume', 'hamburger', 'pastry', 'tiger', 'bucket', 'camera', 'giant_panda', 'bread', 'camera_lens', 'microphone', 'pencil', 'trench_coat', 'boat', 'musical_instrument', 'tripod', 'bedspread', 'clock', 'cow', 'pineapple', 'sunflower', 'dumpster', 'eagle', 'trash_can', 'truck', 'backpack', 'blazer', 'cabinet', 'candle', 'chinaware', 'ladder', 'school_bus', 'soup_bowl', 'starfish', 'cooker', 'glove', 'hammer', 'mirror', 'pot', 'stagecoach', 'armoire', 'chicken_(animal)', 'deer', 'octopus_(animal)', 'pen', 'puppet', 'space_shuttle', 'water_heater', 'bunk_bed', 'goldfish', 'stepladder', 'wall_clock', 'baseball_bat', 'blimp', 'can', 'dollhouse', 'dress_hat', 'goggles', 'pear', 'pew_(church_bench)', 'remote_control', 'stool', 'crown', 'first-aid_kit', 'muffin', 'projectile_(weapon)', 'refrigerator', 'stop_sign', 'bear', 'bracelet', 'bullet_train', 'cap_(headwear)', 'chopping_board', 'drawer', 'motor', 'pocketknife', 'postbox_(public)', 'strawberry', 'tomato', 'bed', 'birdcage', 'doll', 'hot-air_balloon', 'jacket', 'penny_(coin)', 'pliers', 'shopping_bag', 'street_sign', 'trailer_truck', 'wrench', 'cupboard', 'egg', 'fish_(food)', 'freight_car', 'sandwich', 'tank_top_(clothing)', 'tapestry', 'trophy_cup', 'wedding_cake', 'alligator', 'avocado', 'boom_microphone', 'coffee_table', 'crow', 'generator', 'painting', 'pet', 'steak_knife', 'urn', 'vodka', 'watermelon', 'birdhouse', 'convertible_(automobile)', 'diary', 'dolphin', 'forklift', 'kitchen_sink', 'newsstand', 'patty_(food)', 'air_conditioner', 'amplifier', 'clock_tower', 'football_helmet', 'loveseat', 'sofa_bed', 'wine_bottle', 'basket', 'book', 'carnation', 'carrot', 'garbage', 'handcart', 'horned_cow', 'kitchen_table', 'mallard', 'map', 'spear', 'telephoto_lens', 'washbasin', 'water_gun', 'bell', 'birthday_cake', 'cider', 'coffeepot', 'dagger', 'futon', 'hummingbird', 'jet_plane', 'microscope', 'mouse_(computer_equipment)', 'notebook', 'puffer_(fish)', 'sail', 'scraper', 'sombrero', 'steering_wheel', 'subwoofer', 'cake', 'camcorder', 'padlock', 'parrot', 'piggy_bank', 'propeller', 'wagon_wheel', 'bulldozer', 'camper_(vehicle)', 'crucifix', 'handbag', 'kimono', 'laptop_computer', 'passenger_car_(part_of_a_train)', 'polar_bear', 'suitcase', 'train_(railroad_vehicle)', 'automatic_washer', 'bulldog', 'headboard', 'leather', 'liquor', 'newspaper', 'stereo_(sound_system)', 'timer', 'alcohol', 'breechcloth', 'calculator', 'fedora', 'joystick', 'microwave_oven', 'pigeon', 'potato', 'seahorse', 'soup', 'typewriter', 'wall_socket', 'ashtray', 'file_cabinet', 'plate', 'saucer', 'squirrel', 'thermos_bottle', 'beetle', 'blackboard', 'cassette', 'cowboy_hat', 'dumbbell', 'pocket_watch', 'runner_(carpet)', 'shears', 'skirt', 'speaker_(stero_equipment)', 'streetlight', 'sweatshirt', 'wet_suit', 'Ferris_wheel', 'aquarium', 'beanie', 'canister', 'coffee_maker', 'jar', 'orange_(fruit)', 'record_player', 'screwdriver', 'tennis_racket', 'toaster_oven', 'bottle', 'carton', 'coil', 'coverall', 'flannel', 'mammoth', 'minivan', 'router_(computer_equipment)', 'shopping_cart', 'tartan', 'telephone_pole', 'television_camera', 'tiara', 'wardrobe', 'barbell', 'beanbag', 'billboard', 'blouse', 'bowler_hat', 'bowling_ball', 'cab_(taxi)', 'camel', 'cape', 'cellular_telephone', 'chocolate_bar', 'doormat', 'fork', 'hat', 'popsicle', 'puncher', 'sheep', 'swimsuit', 'volleyball', 'ambulance', 'bow-tie', 'cappuccino', 'card', 'corkscrew', 'flamingo', 'flip-flop_(sandal)', 'gazelle', 'goose', 'mattress', 'mousepad', 'pendulum', 'ping-pong_ball', 'platter', 'pool_table', 'poster', 'sock', 'steak_(food)', 'surfboard', 'sushi', 'sweater', 'wagon', 'water_jug', 'wig', 'ball', 'bridal_gown', 'dish_antenna', 'kayak', 'medicine', 'pillow', 'pipe', 'raincoat', 'reflector', 'scarf', 'sparkler_(fireworks)', 'suit_(clothing)', 'wheelchair', 'basketball_backboard', 'birdbath', 'clementine', 'cloak', 'cooking_utensil', 'curtain', 'dragonfly', 'edible_corn', 'glass_(drink_container)', 'horse_carriage', 'jumpsuit', 'martini', 'octopus_(food)', 'place_mat', 'puffin', 'radiator', 'salmon_(food)', 'sandal_(type_of_shoe)', 'shoulder_bag', 'stove', 'toolbox', 'watering_can', 'candy_cane', 'coat', 'crescent_roll', 'duffel_bag', 'fruit_juice', 'hamster', 'pirate_flag', 'shepherd_dog', 'slipper_(footwear)', 'sunhat', 'tank_(storage_vessel)', 'tennis_ball', 'tote_bag', 'towel_rack', 'tray', 'umbrella', 'dinghy', 'duck', 'faucet', 'flagpole', 'food_processor', 'garbage_truck', 'ladybug', 'milk', 'pipe_bowl', 'underdrawers', 'videotape', 'beef_(food)', 'birdfeeder', 'briefcase', 'canoe', 'cardigan', 'compass', 'eel', 'fire_engine', 'golfcart', 'grill', 'kennel', 'lamb_(animal)', 'parakeet', 'parasol', 'pug-dog', 'robe', 'tachometer', 'banjo', 'beachball', 'frying_pan', 'latch', 'lemon', 'locker', 'mailbox_(at_home)', 'milestone', 'silo', 'ski_parka', 'squid_(food)', 'step_stool', 'toast_(food)', 'wristlet', 'armband', 'bathtub', 'cigarette', 'dartboard', 'gull', 'heater', 'jewel', 'lollipop', 'magazine', 'pie', 'ram_(animal)', 'rodent', 'scoreboard', 'tinfoil', 'truffle_(chocolate)', 'vest', 'Bible', 'baguet', 'barrow', 'cash_register', 'cherry', 'crisp_(potato_chip)', 'footstool', 'gasmask', 'music_stool', 'orange_juice', 'polo_shirt', 'poncho', 'power_shovel', 'prawn', 'salmon_(fish)', 'scarecrow', 'slide', 'tow_truck', 'water_tower', 'broach', 'business_card', 'comic_book', 'crabmeat', 'crawfish', 'cream_pitcher', 'football_(American)', 'igniter', 'plow_(farm_equipment)', 'rag_doll', 'river_boat', 'shower_curtain', 'spice_rack', 'table-tennis_table', 'tricycle', 'arctic_(type_of_shoe)', 'binoculars', 'blanket', 'broccoli', 'cargo_ship', 'cart', 'drill', 'easel', 'lab_coat', 'mail_slot', 'mixer_(kitchen_tool)', 'notepad', 'packet', 'peach', 'persimmon', 'pickle', 'quiche', 'recliner', 'seaplane', 'ski_boot', 'sweat_pants', 'tights_(clothing)', 'tobacco_pipe', 'wooden_spoon', 'barge', 'bass_horn', 'bullhorn', 'cucumber', 'egg_yolk', 'eraser', 'garlic', 'goat', 'hippopotamus', 'horse_buggy', 'legging_(clothing)', 'ottoman', 'playpen', 'pouch', 'road_map', 'saucepan', 'sausage', 'sink', 'stylus', 'sugar_bowl', 'vacuum_cleaner', 'yacht', 'bagel', 'binder', 'boiled_egg', 'bulletproof_vest', 'chaise_longue', 'clothes_hamper', 'cockroach', 'cookie', 'cornet', 'dustpan', 'earring', 'envelope', 'escargot', 'ferret', 'flash', 'hourglass', 'koala', 'lettuce', 'mast', 'measuring_stick', 'railcar_(part_of_a_train)', 'root_beer', 'saddle_(on_an_animal)', 'satchel', 'soap', 'stirrer', 'weathervane', 'window_box_(for_plants)', 'wok', 'bottle_cap', 'canteen', 'cauliflower', 'cistern', 'deck_chair', 'dollar', 'dove', 'foal', 'keycard', 'kite', 'ladle', 'milk_can', 'ostrich', 'passenger_ship', 'saddle_blanket', 'saddlebag', 'seabird', 'shawl', 'shovel', 'shower_head', 'toothbrush', 'turban', 'waffle', 'apricot', 'baboon', 'beret', 'combination_lock', 'corkboard', 'falcon', 'fire_alarm', 'heron', 'jean', 'lawn_mower', 'milkshake', 'nut', 'plume', 'postcard', 'rocking_chair', 'soupspoon', 'stew', 'sweatband', 'tux', 'bedpan', 'cantaloup', 'cocoa_(beverage)', 'crossbar', 'dispenser', 'ferry', 'fume_hood', 'grape', 'identity_card', 'lemonade', 'pan_(metal_container)', 'pancake', 'parachute', 'pegboard', 'skewer', 'smoothie', 'straw_(for_drinking)', 'trousers', 'water_cooler', 'bathrobe', 'beeper', 'booklet', 'bulletin_board', 'cabana', 'casserole', 'cast', 'choker', 'clutch_bag', 'coatrack', 'coconut', 'coloring_material', 'dog_collar', 'ginger', 'gondola_(boat)', 'halter_top', 'harmonium', 'license_plate', 'nest', 'palette', 'parasail_(sports)', 'parka', 'parking_meter', 'reamer_(juicer)', 'sewing_machine', 'triangle_(musical_instrument)', 'turkey_(food)', 'wristband', 'Dixie_cup', 'aerosol_can', 'anklet', 'birthday_card', 'bow_(weapon)', 'boxing_glove', 'brussels_sprouts', 'condiment', 'cork_(bottle_plug)', 'cub_(animal)', 'dish', 'handsaw', 'highchair', 'hook', 'hotplate', 'jersey', 'nutcracker', 'onion', 'paperback_book', 'paperweight', 'perfume', 'salad_plate', 'strap', 'toilet_tissue', 'wooden_leg', 'zucchini', 'ballet_skirt', 'chopstick', 'cruise_ship', 'dishtowel', 'fleece', 'green_onion', 'grocery_bag', 'hornet', 'jam', 'olive_oil', 'pan_(for_cooking)', 'passport', 'pennant', 'sherbert', 'shot_glass', 'softball', 'syringe', 'teacup', 'tinsel', 'walking_stick', 'whipped_cream', 'yogurt', 'zebra', 'Tabasco_sauce', 'bandanna', 'cayenne_(spice)', 'chocolate_milk', 'clasp', 'coat_hanger', 'detergent', 'dishwasher', 'eggplant', 'flute_glass', 'frisbee', 'handkerchief', 'knob', 'knocker_(on_a_door)', 'quilt', 'receipt', 'shampoo', 'tortilla', 'turtleneck_(clothing)', 'vulture', 'wreath', 'CD_player', 'bath_mat', 'belt', 'blueberry', 'bottle_opener', 'bow_(decorative_ribbons)', 'brassiere', 'broom', 'buoy', 'cleansing_agent', 'cleat_(for_securing_rope)', 'cover', 'dalmatian', 'diaper', 'dishrag', 'doorknob', 'drumstick', 'fig_(fruit)', 'hamper', 'hand_glass', 'melon', 'papaya', 'plastic_bag', 'printer', 'salad', 'sleeping_bag', 'snowmobile', 'soya_milk', 'spoon', 'strainer', 'sweet_potato', 'thermostat', 'veil', 'vent', 'asparagus', 'bamboo', 'cabin_car', 'calendar', 'colander', 'corset', 'cracker', 'crayon', 'domestic_ass', 'fishing_rod', 'hair_dryer', 'lightning_rod', 'lime', 'mandarin_orange', 'pajamas', 'pea_(food)', 'sugarcane_(plant)', 'thread', 'toaster', 'unicycle', 'apron', 'atomizer', 'bath_towel', 'bell_pepper', 'butter', 'button', 'date_(fruit)', 'headlight', 'hot_sauce', 'legume', 'mop', 'neckerchief', 'pepper', 'projector', 'quesadilla', 'rolling_pin', 'rubber_band', 'short_pants', 'ski', 'spatula', 'spotlight', 'tassel', 'toothpick', 'towel', 'wind_chime', 'bandage', 'baseball_glove', 'checkbook', 'chocolate_mousse', 'cufflink', 'dishwasher_detergent', 'flashlight', 'ham', 'hand_towel', 'handle', 'headscarf', 'iPod', 'kilt', 'kiwi_fruit', 'meatball', 'necktie', 'pretzel', 'radar', 'radish', 'raft', 'raspberry', 'scissors', 'tarp', 'thermometer', 'visor', 'almond', 'baseball', 'bead', 'belt_buckle', 'bread-bin', 'burrito', 'cornbread', 'cornmeal', 'flap', 'headstall_(for_horses)', 'hinge', 'knitting_needle', 'mint_candy', 'mound_(baseball)', 'overalls_(clothing)', 'paddle', 'paper_towel', 'parchment', 'rib_(food)', 'roller_skate', 'sawhorse', 'thimble', 'turnip', 'wallet', 'artichoke', 'banner', 'bookmark', 'cigar_box', 'cigarette_case', 'cincture', 'earplug', 'eclair', 'fire_hose', 'folding_chair', 'funnel', 'gravy_boat', 'hairbrush', 'ice_pack', 'knee_pad', 'life_jacket', 'matchbox', 'nailfile', 'nightshirt', 'paper_plate', 'pencil_box', 'salami', 'urinal', 'walrus', 'baby_buggy', 'brownie', 'bubble_gum', 'calf', 'candy_bar', 'car_battery', 'chili_(vegetable)', 'coaster', 'crouton', 'honey', 'hose', 'inhaler', 'ironing_board', 'measuring_cup', 'money', 'napkin', 'pita_(bread)', 'pitchfork', 'poker_chip', 'rearview_mirror', 'scale_(measuring_instrument)', 'scrubbing_brush', 'skullcap', 'string_cheese', 'taillight', 'tambourine', 'tape_(sticky_cloth_or_paper)', 'Sharpie', 'clipboard', 'cymbal', 'fishbowl', 'garden_hose', 'gargle', 'green_bean', 'grits', 'handcuff', 'hatbox', 'hookah', 'ice_maker', 'mat_(gym_equipment)', 'needle', 'oven', 'peeler_(tool_for_fruit_and_vegetables)', 'pinwheel', 'pudding', 'shaker', 'shredder_(for_paper)', 'sled', 'suspenders', 'thumbtack', 'tongs', 'Band_Aid', 'Rollerblade', 'battery', 'blackberry', 'bob', 'cooler_(for_food)', 'crutch', 'freshener', 'gelatin', 'limousine', 'lip_balm', 'omelet', 'pelican', 'racket', 'saltshaker', 'saxophone', 'stapler_(stapling_machine)', 'taco', 'walking_cane', 'bait', 'clarinet', 'clothespin', 'cougar', 'crowbar', 'hammock', 'houseboat', 'paintbrush', 'pencil_sharpener', 'prune', 'tape_measure', 'tequila', 'vinegar', 'bolt', 'can_opener', 'chime', 'deadbolt', 'egg_roll', 'grater', 'hairnet', 'headband', 'life_buoy', 'magnet', 'manatee', 'manger', 'oar', 'pepper_mill', 'ski_pole', 'snowboard', 'toothpaste', 'blender', 'clippers_(for_plants)', 'crib', 'elevator_car', 'flipper_(footwear)', 'hockey_stick', 'peanut_butter', 'potholder', 'shaving_cream', 'stirrup', 'underwear', 'bobbin', 'bonnet', 'celery', 'clip', 'cowbell', 'crape', 'golf_club', 'lamb-chop', 'lasagna', 'phonebook', 'safety_pin', 'sharpener', 'shaver_(electric)', 'waffle_iron', 'webcam', 'ice_skate', 'mashed_potato', 'mitten', 'shower_cap', 'water_ski', 'bun', 'tissue_paper', 'trampoline', 'duct_tape', 'bolo_tie', 'eggbeater', 'eyepatch', 'file_(tool)', 'inkpad', 'iron_(for_clothing)', 'pacifier', 'poker_(fire_stirring_tool)', 'salsa', 'water_scooter', 'windsock'])"
            ]
          },
          "metadata": {},
          "execution_count": 3
        }
      ]
    },
    {
      "cell_type": "code",
      "source": [
        "len(items)"
      ],
      "metadata": {
        "id": "qmBIVeiMLRXG",
        "outputId": "dc35a2c7-1b74-43a9-e3ca-cccfa1597761",
        "colab": {
          "base_uri": "https://localhost:8080/"
        }
      },
      "execution_count": 4,
      "outputs": [
        {
          "output_type": "execute_result",
          "data": {
            "text/plain": [
              "1156"
            ]
          },
          "metadata": {},
          "execution_count": 4
        }
      ]
    },
    {
      "cell_type": "code",
      "source": [
        "\n",
        "# Plot the keys against the lengths of the values\n",
        "plt.xticks(rotation='vertical')\n",
        "plt.plot(list(items.keys()), [len(value) for value in items.values()])\n",
        "plt.show()\n"
      ],
      "metadata": {
        "id": "3pf2QwsjuBqa",
        "colab": {
          "base_uri": "https://localhost:8080/",
          "height": 770
        },
        "outputId": "b776e3d0-ce40-404c-8091-d2f60a862456"
      },
      "execution_count": 5,
      "outputs": [
        {
          "output_type": "display_data",
          "data": {
            "text/plain": [
              "<Figure size 640x480 with 1 Axes>"
            ],
            "image/png": "[encoded data removed]"
          },
          "metadata": {}
        }
      ]
    },
    {
      "cell_type": "code",
      "source": [
        "# # Load Objaverse annotations\n",
        "# uids = []  # Initialize an empty list\n",
        "# for uid_list in items.values():\n",
        "#     uids.extend(uid_list)  # Add UIDs individually\n"
      ],
      "metadata": {
        "id": "MD-9Pim-uSUJ"
      },
      "execution_count": 6,
      "outputs": []
    },
    {
      "cell_type": "code",
      "source": [
        "len(uids)"
      ],
      "metadata": {
        "id": "GEBSKWtpLp-2",
        "outputId": "fa0783d3-6b77-4736-b028-6307031188f6",
        "colab": {
          "base_uri": "https://localhost:8080/"
        }
      },
      "execution_count": 7,
      "outputs": [
        {
          "output_type": "execute_result",
          "data": {
            "text/plain": [
              "798759"
            ]
          },
          "metadata": {},
          "execution_count": 7
        }
      ]
    },
    {
      "cell_type": "code",
      "source": [
        "from google.colab import output\n",
        "output.enable_custom_widget_manager()"
      ],
      "metadata": {
        "id": "KgQlHnK-V0y7"
      },
      "execution_count": 8,
      "outputs": []
    },
    {
      "cell_type": "markdown",
      "source": [
        "Support for third party widgets will remain active for the duration of the session. To disable support:"
      ],
      "metadata": {
        "id": "eoDkvNCUV0zC"
      }
    },
    {
      "cell_type": "code",
      "source": [
        "annotations = objaverse.load_annotations(uids)"
      ],
      "metadata": {
        "colab": {
          "base_uri": "https://localhost:8080/"
        },
        "id": "2Kr76xHbukQM",
        "outputId": "3980a7af-e669-4e68-82a5-a8a6200347bd"
      },
      "execution_count": null,
      "outputs": [
        {
          "output_type": "stream",
          "name": "stderr",
          "text": [
            " 32%|███▎      | 52/160 [00:34<01:07,  1.61it/s]"
          ]
        }
      ]
    },
    {
      "cell_type": "code",
      "source": [
        "# objaverse_description = []\n",
        "for annotation in annotations.values():\n",
        "    if isinstance(annotation, dict):\n",
        "        tags = annotation.get(\"tags\")  # No default value, get returns 'None' if key is missing\n",
        "        if tags:  # Check if tags exists\n",
        "            tag_descriptions = [tag['name'] for tag in tags]\n",
        "            # ... (Rest of your code)\n",
        "            description = \" \".join(tag_descriptions)\n",
        "             # Store tags and description with annotation\n",
        "            annotation[\"description\"] = description  # adding a description field\n",
        "            # objaverse_description.append(description)"
      ],
      "metadata": {
        "id": "sd9Ac05IuSQJ"
      },
      "execution_count": null,
      "outputs": []
    },
    {
      "cell_type": "code",
      "source": [
        "import pandas as pd\n",
        "df = pd.DataFrame()\n",
        "df['uids'] = uids\n",
        "\n"
      ],
      "metadata": {
        "id": "aQVQVibmup0j"
      },
      "execution_count": null,
      "outputs": []
    },
    {
      "cell_type": "markdown",
      "source": [
        "**Preprocessing of Text Description**"
      ],
      "metadata": {
        "id": "itSioxDoW_po"
      }
    },
    {
      "cell_type": "code",
      "source": [
        "from nltk.stem import WordNetLemmatizer\n",
        "nltk.download('wordnet')\n",
        "def clean_description(description):\n",
        "    # Define stop words\n",
        "    stop_words = set(stopwords.words(\"english\"))\n",
        "\n",
        "\n",
        "    # Remove punctuation\n",
        "    text = description.translate(str.maketrans('', '', string.punctuation))\n",
        "\n",
        "    # Remove stop words\n",
        "    text = ' '.join([word for word in text.split() if word not in stop_words])\n",
        "\n",
        "    # Lowercase conversion\n",
        "    text = text.lower()\n",
        "\n",
        "    # Stemming (or lemmatization)\n",
        "    stemmer = PorterStemmer()  # You can replace this with WordNetLemmatizer for lemmatization\n",
        "    text = ' '.join([stemmer.stem(word) for word in text.split()])\n",
        "\n",
        "    # Lemmatization\n",
        "    lemmatizer = WordNetLemmatizer()\n",
        "    text = ' '.join([lemmatizer.lemmatize(word) for word in text.split()])\n",
        "\n",
        "    return text\n",
        "\n",
        "\n",
        "df['description'] = df['uids'].map(lambda uid: clean_description( annotations[uid]['description']))"
      ],
      "metadata": {
        "id": "LE_CL06kvFGJ"
      },
      "execution_count": null,
      "outputs": []
    },
    {
      "cell_type": "code",
      "source": [
        "import numpy as np\n",
        "df['description'].replace('', np.nan, inplace=True)\n",
        "df = df.dropna()"
      ],
      "metadata": {
        "id": "3JhTq1V-vFDy"
      },
      "execution_count": null,
      "outputs": []
    },
    {
      "cell_type": "code",
      "source": [
        "processes = multiprocessing.cpu_count()\n",
        "processes\n",
        "objects = objaverse.load_objects(\n",
        "    uids = df['uids'].iloc[:2500],\n",
        "    download_processes = processes\n",
        ")"
      ],
      "metadata": {
        "id": "LCcbGmxjBfht"
      },
      "execution_count": null,
      "outputs": []
    },
    {
      "cell_type": "code",
      "source": [
        "# Define the subfolder and parent folder paths\n",
        "parent_dir = '/root/.objaverse/hf-objaverse-v1/glbs'\n",
        "\n",
        "# Walk through the parent directory\n",
        "for subdir, dirs, files in os.walk(parent_dir):\n",
        "    for file in files:\n",
        "        # Construct the file path\n",
        "        file_path = os.path.join(subdir, file)\n",
        "        # Construct the destination path\n",
        "        dest_path = os.path.join(parent_dir, file)\n",
        "        # Move the file to the parent directory\n",
        "        shutil.move(file_path, dest_path)\n",
        "    # If the current directory is not the parent directory, delete the subdirectory\n",
        "    if subdir != parent_dir:\n",
        "        os.rmdir(subdir)\n",
        "\n",
        "df['glb_path'] = df['uids'].iloc[:2500].map(lambda x: objects[x])"
      ],
      "metadata": {
        "id": "LfOcHRn4Bjt-"
      },
      "execution_count": null,
      "outputs": []
    },
    {
      "cell_type": "code",
      "source": [
        "df.head()"
      ],
      "metadata": {
        "id": "Z944TteXW98X"
      },
      "execution_count": null,
      "outputs": []
    },
    {
      "cell_type": "code",
      "source": [
        "import re\n",
        "# Function to remove \"/glbs\"\n",
        "def remove_glbs(path):\n",
        "    return re.sub(r'\\d{3}-\\d{3}/', '', path)    # Replace '/glbs' with an empty string\n",
        "\n",
        "# Apply the function using map\n",
        "df['glb_path'] = df['glb_path'].map(remove_glbs)"
      ],
      "metadata": {
        "id": "oK0pxjQ9BmTF"
      },
      "execution_count": null,
      "outputs": []
    },
    {
      "cell_type": "code",
      "source": [
        "import time\n",
        "\n",
        "def verbose_time(func):\n",
        "    def wrapper(*args, **kwargs):\n",
        "        start_time = time.time()\n",
        "        result = func(*args, **kwargs)\n",
        "        end_time = time.time()\n",
        "        print(f\"{func.__name__} took {end_time - start_time:.2f} seconds to execute.\")\n",
        "        return result\n",
        "    return wrapper"
      ],
      "metadata": {
        "id": "TdD4EX42q2ru"
      },
      "execution_count": null,
      "outputs": []
    },
    {
      "cell_type": "code",
      "source": [
        "@verbose_time\n",
        "def custom_function():\n",
        "    # Your custom function code\n",
        "    pass\n",
        "\n",
        "# To use the verbose time decorator, just call your function:\n",
        "custom_function()"
      ],
      "metadata": {
        "id": "e5lUsGn9rQyd"
      },
      "execution_count": null,
      "outputs": []
    },
    {
      "cell_type": "code",
      "source": [
        "@verbose_time\n",
        "def custom_function():\n",
        "    # Your custom function code\n",
        "    pass\n",
        "\n",
        "# To use the verbose time decorator, just call your function:\n",
        "custom_function()"
      ],
      "metadata": {
        "id": "vUAeX2_Hq-po"
      },
      "execution_count": null,
      "outputs": []
    },
    {
      "cell_type": "markdown",
      "source": [
        "**Preprocessing of 3d model into point cloud**"
      ],
      "metadata": {
        "id": "KCEdg01yXSUA"
      }
    },
    {
      "cell_type": "code",
      "source": [
        "import os\n",
        "def get_model_paths(base_dir):\n",
        "    model_paths = []\n",
        "    for subdir, dirs, files in os.walk(base_dir):\n",
        "        for file in files:\n",
        "            if file.endswith(\".glb\"):\n",
        "                file_path = os.path.join(subdir, file)\n",
        "                model_paths.append(file_path)\n",
        "    return model_paths\n",
        "base_dir ='/root/.objaverse/hf-objaverse-v1/glbs'\n",
        "model_paths = get_model_paths(base_dir)"
      ],
      "metadata": {
        "id": "N_xsglo1vpBb"
      },
      "execution_count": null,
      "outputs": []
    },
    {
      "cell_type": "code",
      "source": [
        "df.head()"
      ],
      "metadata": {
        "id": "rmqoX-omoQJQ"
      },
      "execution_count": null,
      "outputs": []
    },
    {
      "cell_type": "code",
      "source": [
        "df.to_csv('/root/.objaverse/Dataset')\n",
        "import pandas as pd\n",
        "df = pd.read_csv('/root/.objaverse/Dataset')"
      ],
      "metadata": {
        "id": "kuQorD4w6aki"
      },
      "execution_count": null,
      "outputs": []
    },
    {
      "cell_type": "markdown",
      "source": [],
      "metadata": {
        "id": "5K6ML1lIvtp8"
      }
    },
    {
      "cell_type": "code",
      "source": [
        "# from mpl_toolkits.mplot3d import Axes3D\n",
        "\n",
        "# glbs = model_paths[0:5]\n",
        "# # Create a figure and axes for the subplots\n",
        "# fig, axs = plt.subplots(2, 3, figsize=(15, 10))\n",
        "# # Loop through each subplot and display the mesh\n",
        "# for i, ax in enumerate(axs.flat):\n",
        "#     # Plot mesh in each subplot\n",
        "#     for glb in glbs:\n",
        "#       if glb:\n",
        "#           mesh = o3d.io.read_triangle_mesh(glb)\n",
        "#           ax = o3d.visualization.draw_plotly([mesh])\n",
        "#       else:\n",
        "#           # Hide empty subplots\n",
        "#           ax.axis('off')\n",
        "# plt.show()\n"
      ],
      "metadata": {
        "id": "0BkHzvfDvo-c"
      },
      "execution_count": null,
      "outputs": []
    },
    {
      "cell_type": "markdown",
      "source": [
        "**Voxelization using numpy**"
      ],
      "metadata": {
        "id": "jm0L02sbVGyc"
      }
    },
    {
      "cell_type": "code",
      "source": [
        "import numpy as np\n",
        "import os\n",
        "from scipy.ndimage import zoom\n",
        "from multiprocessing import Pool, cpu_count\n",
        "# import pygltflib"
      ],
      "metadata": {
        "id": "8SfoZ1S60Sen"
      },
      "execution_count": null,
      "outputs": []
    },
    {
      "cell_type": "code",
      "source": [],
      "metadata": {
        "id": "tMdT_3WsuJSS"
      },
      "execution_count": null,
      "outputs": []
    },
    {
      "cell_type": "markdown",
      "source": [
        "**voxelization using open3d**"
      ],
      "metadata": {
        "id": "JXFtdF4iVBme"
      }
    },
    {
      "cell_type": "code",
      "source": [
        "dir = '/root/.objaverse/hf-objaverse-v1/glbs'\n",
        "num_processes = multiprocessing.cpu_count()  # Use the number of CPU cores\n"
      ],
      "metadata": {
        "id": "lpMoKQU0ocSR"
      },
      "execution_count": null,
      "outputs": []
    },
    {
      "cell_type": "code",
      "source": [
        "df.head()"
      ],
      "metadata": {
        "id": "zX5fSjvMztgb"
      },
      "execution_count": null,
      "outputs": []
    },
    {
      "cell_type": "code",
      "source": [
        "@verbose_time\n",
        "def o3d_voxelize(filepath):\n",
        "    mesh = o3d.io.read_triangle_mesh(filepath)\n",
        "    # os.path.split(filepath)[]\n",
        "    print(mesh)\n",
        "    # mesh.compute_vertex_normals()\n",
        "    # fit to unit cube\n",
        "    mesh.scale(1 / np.max(mesh.get_max_bound() - mesh.get_min_bound()),center=mesh.get_center())\n",
        "    # o3d.visualization.draw([mesh])\n",
        "    # print('voxelization')\n",
        "    voxel_grid = o3d.geometry.VoxelGrid.create_from_triangle_mesh(mesh, voxel_size=0.05)\n",
        "    # o3d.visualization.draw([voxel_grid])\n",
        "    return voxel_grid"
      ],
      "metadata": {
        "id": "2Icosbcuw7FF"
      },
      "execution_count": null,
      "outputs": []
    },
    {
      "cell_type": "code",
      "source": [],
      "metadata": {
        "id": "u_trKJTHzQoi"
      },
      "execution_count": null,
      "outputs": []
    },
    {
      "cell_type": "code",
      "source": [
        "@verbose_time\n",
        "#we convert to pytorch tensors to use later for training the GAN\n",
        "def voxel_grid_to_tensor(voxel_grid, target_shape):\n",
        "\n",
        "    voxels = np.asarray(voxel_grid.get_voxels())\n",
        "    if len(voxels) == 0:\n",
        "        return torch.empty(0)\n",
        "    voxel_positions = np.array([voxel.grid_index for voxel in voxels])\n",
        "    if voxel_positions.size == 0:\n",
        "        return torch.empty(0)\n",
        "    max_coords = voxel_positions.max(axis=0)\n",
        "    tensor_shape = tuple(max_coords + 1)\n",
        "    voxel_tensor = torch.zeros(tensor_shape, dtype=torch.float32)\n",
        "    voxel_tensor[tuple(voxel_positions.T)] = 1\n",
        "\n",
        "    # Rescale tensor to target shape\n",
        "    scaling_factors = [target_shape[i] / voxel_tensor.shape[i] for i in range(3)]\n",
        "    voxel_tensor_rescaled = torch.tensor(zoom(voxel_tensor, scaling_factors, order=0))  # Use nearest neighbor scaling\n",
        "\n",
        "    # Print the final shape of the tensor\n",
        "    # print(\"Final tensor shape:\", voxel_tensor_rescaled.shape)\n",
        "\n",
        "    return voxel_tensor_rescaled\n",
        "\n"
      ],
      "metadata": {
        "id": "4Tc4jF1El-V1"
      },
      "execution_count": null,
      "outputs": []
    },
    {
      "cell_type": "code",
      "source": [
        "df.head()"
      ],
      "metadata": {
        "id": "jhGlUXdOpdpX"
      },
      "execution_count": null,
      "outputs": []
    },
    {
      "cell_type": "markdown",
      "source": [
        "**Visualizing voxel grid**"
      ],
      "metadata": {
        "id": "SiAgFxjlUBFt"
      }
    },
    {
      "cell_type": "code",
      "source": [
        "# import numpy as np\n",
        "# import matplotlib.pyplot as plt\n",
        "# from mpl_toolkits.mplot3d import Axes3D\n",
        "\n",
        "# def visualize_voxel_grid(voxel_grid):\n",
        "#     fig = plt.figure()\n",
        "#     ax = fig.add_subplot(111, projection='3d')\n",
        "\n",
        "#     # Extract voxel grid dimensions\n",
        "#     x_size, y_size, z_size = voxel_grid.shape\n",
        "\n",
        "#     # Iterate over each voxel\n",
        "#     for x in range(1):\n",
        "#         for y in range(1):\n",
        "#             for z in range(1):\n",
        "#                 if voxel_grid[x, y, z] == 1:  # Filled voxel\n",
        "#                     ax.scatter(x, y, z, color='b')\n",
        "\n",
        "#     # Set labels and title\n",
        "#     ax.set_xlabel('X')\n",
        "#     ax.set_ylabel('Y')\n",
        "#     ax.set_zlabel('Z')\n",
        "#     ax.set_title('Voxel Grid Visualization')\n",
        "\n",
        "#     plt.show()\n",
        "\n",
        "# # Example usage\n",
        "# # voxel_grid = np.random.randint(0, 2, size=(16, 16, 16))  # Random voxel grid for demonstration\n",
        "# visualize_voxel_grid(voxel_grid)"
      ],
      "metadata": {
        "id": "MG_CAcR5Ox9N"
      },
      "execution_count": null,
      "outputs": []
    },
    {
      "cell_type": "markdown",
      "source": [
        "**PRETRAINED TEXT ENCODER USING T5**"
      ],
      "metadata": {
        "id": "QLf8R-6NWcnF"
      }
    },
    {
      "cell_type": "code",
      "source": [
        "import torch\n",
        "import torch.nn as nn\n",
        "import transformers\n",
        "from transformers import T5ForConditionalGeneration, AutoTokenizer"
      ],
      "metadata": {
        "id": "ZyeK-hHRWbY9"
      },
      "execution_count": null,
      "outputs": []
    },
    {
      "cell_type": "code",
      "source": [
        "\n",
        "class TextEncoder(nn.Module):\n",
        "    def __init__(self, model_name=\"t5-large\"):  # Choose a suitable T5 model size\n",
        "        super().__init__()\n",
        "        self.tokenizer = AutoTokenizer.from_pretrained(model_name)\n",
        "        self.transformer = T5ForConditionalGeneration.from_pretrained(model_name)\n",
        "\n",
        "    def forward(self, text_input):\n",
        "        input = self.tokenizer(text_input, return_tensors=\"pt\")  # Tokenize input\n",
        "        start_token_id = self.tokenizer.unk_token_id   # Or the correct start token for your model.\n",
        "        decoder_input_ids = torch.tensor([[start_token_id]])\n",
        "        input['decoder_input_ids'] = decoder_input_ids\n",
        "        # print(input)\n",
        "        outputs = self.transformer(**input)  # T5 model expects specific keyword arguments\n",
        "\n",
        "        # Select appropriate representation\n",
        "        # hidden_states = outputs.last_hidden_state  # Option 1: Last hidden state\n",
        "        # Or potentially the encoder outputs if you need it for rephrasing later\n",
        "        hidden_states = outputs.encoder_last_hidden_state\n",
        "\n",
        "        # Simple mean pooling\n",
        "        latent_representation = hidden_states.mean(dim=1)\n",
        "\n",
        "        return latent_representation"
      ],
      "metadata": {
        "id": "z3XQJx3BWbVs"
      },
      "execution_count": null,
      "outputs": []
    },
    {
      "cell_type": "code",
      "source": [
        "sample_descriptions = [\"A modern living room A minimalist bedroom A chair \"]\n",
        "text_encoder = TextEncoder()\n",
        "for description in sample_descriptions:\n",
        "    latent_representation = text_encoder(description)\n",
        "    print(f\"Description: {description}\")\n",
        "    print(f\"Latent Representation: {latent_representation.shape}\") # Check the shape\n",
        "    print(\"--------------\")"
      ],
      "metadata": {
        "id": "uGNGeVXuWucG"
      },
      "execution_count": null,
      "outputs": []
    },
    {
      "cell_type": "markdown",
      "source": [
        "**GENERATOR AND DISCRIMINATOR MODELS**"
      ],
      "metadata": {
        "id": "ZnRCN4xGY1NE"
      }
    },
    {
      "cell_type": "markdown",
      "source": [],
      "metadata": {
        "id": "MYo0h7SOY1KH"
      }
    },
    {
      "cell_type": "code",
      "source": [
        "import torch.nn as nn\n",
        "\n",
        "# Generator architecture\n",
        "class Generator(nn.Module):\n",
        "    def __init__(self, latent_dim):\n",
        "        super(Generator, self).__init__()\n",
        "        self.fc = nn.Sequential(\n",
        "            nn.Linear(latent_dim, 512 * 4 * 4 * 4),\n",
        "            nn.ReLU(True)\n",
        "        )\n",
        "        self.deconv = nn.Sequential(\n",
        "            nn.ConvTranspose3d(512, 256, kernel_size=4, stride=2, padding=1),\n",
        "            nn.ReLU(True),\n",
        "            nn.ConvTranspose3d(256, 128, kernel_size=4, stride=2, padding=1),\n",
        "            nn.ReLU(True),\n",
        "            nn.ConvTranspose3d(128, 1, kernel_size=4, stride=2, padding=1),\n",
        "            # nn.Sigmoid()\n",
        "            nn.Tanh()\n",
        "        )\n",
        "\n",
        "    def forward(self, x):\n",
        "        x = self.fc(x)\n",
        "        x = x.view(-1, 512, 4, 4, 4)  # Reshape to 3D volume\n",
        "        x = self.deconv(x)\n",
        "        return x\n"
      ],
      "metadata": {
        "id": "0VqaNfoEY7t8"
      },
      "execution_count": null,
      "outputs": []
    },
    {
      "cell_type": "code",
      "source": [
        "# from torchsummary import summary\n",
        "\n",
        "# generator = Generator(1024)\n",
        "# summary(generator, (1,1024))"
      ],
      "metadata": {
        "id": "G-7FWGxExu-9"
      },
      "execution_count": null,
      "outputs": []
    },
    {
      "cell_type": "code",
      "source": [
        "\n",
        "# Discriminator architecture\n",
        "class Discriminator(nn.Module):\n",
        "    def __init__(self):\n",
        "        super(Discriminator, self).__init__()\n",
        "        self.conv = nn.Sequential(\n",
        "            nn.Conv3d(1, 64, kernel_size=4, stride=2, padding=1),\n",
        "            nn.LeakyReLU(0.2, inplace=True),\n",
        "            nn.Conv3d(64, 128, kernel_size=4, stride=2, padding=1),\n",
        "            nn.LeakyReLU(0.2, inplace=True),\n",
        "            nn.Conv3d(128, 256, kernel_size=4, stride=2, padding=1),\n",
        "            nn.LeakyReLU(0.2, inplace=True),\n",
        "            nn.Dropout3d(0.4)\n",
        "        )\n",
        "        self.fc = nn.Sequential(\n",
        "            nn.Linear(256 * 4 * 4 *4 , 1),\n",
        "            # nn.Sigmoid()\n",
        "            nn.Tanh()\n",
        "        )\n",
        "\n",
        "    def forward(self, x):\n",
        "        x = self.conv(x)\n",
        "        x = x.view(-1, 256 * 4 * 4 *4 )  # Flatten\n",
        "        x = self.fc(x)\n",
        "        return x\n"
      ],
      "metadata": {
        "id": "Scb8ObV8Y8pB"
      },
      "execution_count": null,
      "outputs": []
    },
    {
      "cell_type": "markdown",
      "source": [
        "**Model Training**"
      ],
      "metadata": {
        "id": "Yfi4xny_nOhL"
      }
    },
    {
      "cell_type": "code",
      "source": [
        "# voxel_tensors  # List of voxel tensors\n",
        "text_descriptions = df['description'].tolist()   #\n",
        "# List of annotations corresponding to voxel tensors\n",
        "# text_encoder = TextEncoder()\n"
      ],
      "metadata": {
        "id": "4EEmrVoBGqMF"
      },
      "execution_count": null,
      "outputs": []
    },
    {
      "cell_type": "code",
      "source": [
        "# type(voxel_tensors)\n",
        "from scipy.ndimage import zoom\n",
        "\n",
        "voxel_grids = [o3d_voxelize(filepath) for filepath in model_paths]\n",
        "\n",
        "target_shape = (32,32,32)\n",
        "# voxel_grids = [o3d_voxelize(filepath) for filepath in model_paths]\n",
        "voxel_tensors = [voxel_grid_to_tensor(voxel_grid, target_shape) for voxel_grid in voxel_grids]"
      ],
      "metadata": {
        "id": "eOTPHJA6H1t7"
      },
      "execution_count": null,
      "outputs": []
    },
    {
      "cell_type": "code",
      "source": [
        "# text_encoder = TextEncoder()\n",
        "\n",
        "voxel_tensors_sqe = [tensor.unsqueeze(0) for tensor in voxel_tensors]"
      ],
      "metadata": {
        "id": "f3UT-sipHz7v"
      },
      "execution_count": null,
      "outputs": []
    },
    {
      "cell_type": "code",
      "source": [
        "voxel_tensors_sqe[19].shape"
      ],
      "metadata": {
        "id": "oEXjuXANghPI"
      },
      "execution_count": null,
      "outputs": []
    },
    {
      "cell_type": "code",
      "source": [
        "tensor_shapes = []\n",
        "for tensor in voxel_tensors_sqe:  # Replace 'my_tensor_list' with your actual storage\n",
        "    tensor_shapes.append(tensor.shape)\n"
      ],
      "metadata": {
        "id": "2HzcyAKkkIit"
      },
      "execution_count": null,
      "outputs": []
    },
    {
      "cell_type": "code",
      "source": [
        "all_same_size = True  # Initial assumption\n",
        "reference_shape = tensor_shapes[0]  # Take the first shape as a reference\n",
        "count =0\n",
        "voxel_tensors_sq = []\n",
        "for tensor in voxel_tensors_sqe:  # Iterate from the second shape onwards\n",
        "    if tensor.shape != reference_shape:\n",
        "        all_same_size = False\n",
        "        count = count +1\n",
        "        # break  # Exit the loop as soon as you find a mismatch\n",
        "    else :\n",
        "        voxel_tensors_sq.append(tensor)\n",
        "if all_same_size:\n",
        "    print(\"All tensors have the same size\")\n",
        "else:\n",
        "    print(\"Tensors have different sizes\")\n",
        "    print(count)\n"
      ],
      "metadata": {
        "id": "PB1RqofxkLr1"
      },
      "execution_count": null,
      "outputs": []
    },
    {
      "cell_type": "code",
      "source": [
        "import torch\n",
        "device = 'cuda' if torch.cuda.is_available() else 'cpu'\n",
        "print(f\"Using device: {device}\")"
      ],
      "metadata": {
        "id": "vM0LwIhD2tiU"
      },
      "execution_count": null,
      "outputs": []
    },
    {
      "cell_type": "code",
      "source": [
        "voxel_tensors_sq = [tensor.to(device) for tensor in voxel_tensors_sq]\n"
      ],
      "metadata": {
        "id": "N34SnBFww_87"
      },
      "execution_count": null,
      "outputs": []
    },
    {
      "cell_type": "code",
      "source": [
        "len(voxel_tensors_sq)"
      ],
      "metadata": {
        "id": "xwfqUMqb3LqF"
      },
      "execution_count": null,
      "outputs": []
    },
    {
      "cell_type": "code",
      "source": [
        "\n"
      ],
      "metadata": {
        "id": "znvztogtHxQf"
      },
      "execution_count": null,
      "outputs": []
    },
    {
      "cell_type": "code",
      "source": [
        "# Define the file path to save the tensor data\n",
        "file_path = \"/root/data/tensor_data.pt\"\n",
        "\n",
        "# /content/tensor_data.pth\n",
        "# Save the tensor data\n",
        "torch.save(voxel_tensors_sq, file_path)"
      ],
      "metadata": {
        "id": "Dr16JtOsx3-S"
      },
      "execution_count": null,
      "outputs": []
    },
    {
      "cell_type": "code",
      "source": [
        "file_path ='/tensor_data.pt'\n"
      ],
      "metadata": {
        "id": "G6hjXZP_sgEw"
      },
      "execution_count": null,
      "outputs": []
    },
    {
      "cell_type": "code",
      "source": [
        "# import torch\n",
        "# # Load the saved NumPy array\n",
        "loaded_tensor = torch.load(file_path,map_location=torch.device(device))"
      ],
      "metadata": {
        "id": "ELt9DgMNyhFU"
      },
      "execution_count": null,
      "outputs": []
    },
    {
      "cell_type": "code",
      "source": [
        "type(loaded_tensor)"
      ],
      "metadata": {
        "id": "hyKKPnbZ1AYl"
      },
      "execution_count": null,
      "outputs": []
    },
    {
      "cell_type": "code",
      "source": [
        "len(loaded_tensor)"
      ],
      "metadata": {
        "id": "PLEmNFyb1Euu"
      },
      "execution_count": null,
      "outputs": []
    },
    {
      "cell_type": "code",
      "source": [
        "loaded_tensor[0].shape"
      ],
      "metadata": {
        "id": "K6EKruVU1HVk"
      },
      "execution_count": null,
      "outputs": []
    },
    {
      "cell_type": "code",
      "source": [
        "import torch\n",
        "import torch.nn as nn\n",
        "import torch.optim as optim\n",
        "\n",
        "# text_encoder = TextEncoder()\n",
        "batch_size = 256  # Define your batch size\n",
        "num_epochs = 100  # Define the number of epochs\n",
        "learning_rate = 0.002  # Define the learning rate\n",
        "train_loader = torch.utils.data.DataLoader(\n",
        "    voxel_tensors_sq, batch_size=batch_size, shuffle=True\n",
        ")\n",
        "# Assuming you have defined your generator and discriminator networks\n",
        "generator = Generator(latent_dim).to(device)\n",
        "discriminator = Discriminator().to(device)\n",
        "generator = generator.to(device)\n",
        "discriminator = discriminator.to(device)\n",
        "\n",
        "def weights_init(m):\n",
        "    classname = m.__class__.__name__\n",
        "    if classname.find('Conv') != -1:\n",
        "        torch.nn.init.normal_(m.weight.data, 0.0, 0.02)\n",
        "    elif classname.find('BatchNorm') != -1:\n",
        "        torch.nn.init.normal_(m.weight.data, 1.0, 0.02)\n",
        "        torch.nn.init.constant_(m.bias.data, 0)\n",
        "\n",
        "# Apply the initialization to the networks\n",
        "generator.apply(weights_init)\n",
        "discriminator.apply(weights_init)\n",
        "# Assuming you have defined your loss function and optimizers\n",
        "criterion = nn.BCELoss().to(device)\n",
        "optimizer_discriminator = torch.optim.Adam(discriminator.parameters(), lr=learning_rate, betas=(0.5, 0.999))\n",
        "optimizer_generator = torch.optim.Adam(generator.parameters(), lr=learning_rate, betas=(0.5, 0.999))\n",
        "\n",
        "latent_dim = 1024\n",
        "# num_epochs = 10  # Assuming you have defined the number of epochs\n",
        "\n",
        "\n",
        "# discriminator_optimizer = optim.Adam(discriminator.parameters(), lr=0.0002, betas=(0.5, 0.999))\n",
        "\n",
        "# Assuming you have a DataLoader for your training data\n",
        "# train_loader = DataLoader(dataset, batch_size=batch_size, shuffle=True)\n",
        "\n",
        "\n",
        "@verbose_time\n",
        "def train_gen(train_loader):\n",
        "    for n, voxelgrid_tensor in enumerate(train_loader):\n",
        "            # Data for training the discriminator\n",
        "            # print(n)\n",
        "            # print('voxelgrid_tensor ',voxelgrid_tensor.shape)\n",
        "            # batch_size = voxelgrid_tensor.size(0)  # Get the actual batch size\n",
        "            # print(batch_size)\n",
        "            voxelgrid_tensor = voxelgrid_tensor.to(device)\n",
        "            real_labels = torch.ones((batch_size, 1)).to(device)\n",
        "            fake_labels = torch.zeros(batch_size, 1).to(device)\n",
        "            # real_labels = torch.ones(( 1))\n",
        "\n",
        "            # print('real_labels.shape',real_labels.shape)\n",
        "            latent_space_samples = torch.randn((batch_size, latent_dim)).to(device)\n",
        "            # latent_space_samples = torch.randn(( 1024))\n",
        "            # print('latent_space_samples .shape',latent_space_samples.shape)\n",
        "            # voxelgrid_tensor = voxelgrid_tensor.to(device)\n",
        "            latent_space_samples = latent_space_samples.to(device)\n",
        "            generated_samples = generator(latent_space_samples)\n",
        "            # print('generated_samples.shape',generated_samples.shape)\n",
        "            # print('generated_samples.detach().shape',generated_samples.detach().shape)\n",
        "            # print('voxelgrid_tensor.shape',voxelgrid_tensor.shape)\n",
        "            # print('generated_samples.detach().shape',generated_samples.detach().shape)\n",
        "\n",
        "            # Training the discriminator\n",
        "            discriminator.zero_grad()\n",
        "            output_discriminator_real = discriminator(voxelgrid_tensor)\n",
        "            output_discriminator_fake = discriminator(generated_samples.detach())  # Detach to avoid backpropagation through generator\n",
        "\n",
        "            print('output_discriminator_fake.shape',output_discriminator_fake.shape,'real_labels.shape',real_labels.shape)\n",
        "            print('output_discriminator_real.shape', output_discriminator_real.shape,'torch.zeros_like(real_labels).shape',torch.zeros_like(real_labels).shape )\n",
        "\n",
        "            # Compute discriminator loss\n",
        "            # if output_discriminator_real.shape == real_labels.shape:\n",
        "            loss_discriminator_real = criterion(output_discriminator_real, real_labels)\n",
        "            # loss_discriminator_fake = criterion(output_discriminator_fake, torch.zeros_like(real_labels))\n",
        "            loss_discriminator_fake = criterion(output_discriminator_fake,fake_labels)\n",
        "\n",
        "            discriminator_loss = (loss_discriminator_real + loss_discriminator_fake) / 2\n",
        "\n",
        "            discriminator_loss.backward()\n",
        "            optimizer_discriminator.step()\n",
        "\n",
        "            # Data for training the generator\n",
        "            # latent_space_samples = torch.randn((batch_size, 1024)).to(device)\n",
        "\n",
        "            # Training the generator\n",
        "            generator.zero_grad()\n",
        "            generated_samples = generator(latent_space_samples).to(device)\n",
        "            output_discriminator_generated = discriminator(generated_samples)\n",
        "\n",
        "            # Calculate the generator loss\n",
        "            loss_generator = criterion(output_discriminator_generated, real_labels)\n",
        "            loss_generator.backward()\n",
        "            optimizer_generator.step()\n",
        "\n",
        "            # Show loss\n",
        "            if (epoch % 10 == 0) and (n == len(train_loader) - 1):\n",
        "                print(f\"Epoch: {epoch} Loss D.: {discriminator_loss.item()}\")\n",
        "                print(f\"Epoch: {epoch} Loss G.: {loss_generator.item()}\")\n",
        "\n",
        "for epoch in range(num_epochs):\n",
        "    train_gen(train_loader)"
      ],
      "metadata": {
        "id": "EbUwjbWlVXSr"
      },
      "execution_count": null,
      "outputs": []
    },
    {
      "cell_type": "code",
      "source": [
        "\n",
        "# After training, you can save your models if needed\n",
        "torch.save(generator.state_dict(), 'generator.pth')\n",
        "torch.save(discriminator.state_dict(), 'discriminator.pth')\n"
      ],
      "metadata": {
        "id": "qPdFIyFiF020"
      },
      "execution_count": null,
      "outputs": []
    },
    {
      "cell_type": "markdown",
      "source": [
        "### ***Data Preparation: Preprocess your dataset to pair each text description with its corresponding voxel grid representation of the 3D model.***\n",
        "Model Architecture:\n",
        "Text Encoder: Convert text descriptions into a fixed-size vector representation, such as [1,1024].\n",
        "Generator: Takes the output of the text encoder and generates voxel grids of size (16,16,16).\n",
        "Discriminator: Takes voxel grids of size (16,16,16) as input and predicts whether they are real or generated.\n",
        "Connecting the Components:\n",
        "Pass the text description through the text encoder to get the fixed-size vector representation.\n",
        "Feed this vector representation into the generator to produce a voxel grid.\n",
        "Pass both the real voxel grids (from the dataset) and generated voxel grids through the discriminator.\n",
        "Loss Functions:\n",
        "Generator Loss: Use a combination of traditional image generation loss functions such as pixel-wise mean squared error (MSE) or binary cross-entropy loss.\n",
        "Discriminator Loss: Train the discriminator to distinguish between real and generated voxel grids using binary cross-entropy loss.\n",
        "Training:\n",
        "Alternately train the generator and discriminator in a GAN-like setup:\n",
        "Train the discriminator to correctly classify real and generated voxel grids.\n",
        "Train the generator to fool the discriminator by generating voxel grids that the discriminator classifies as real.\n",
        "Use techniques like mini-batch discrimination and label smoothing to improve stability.\n",
        "Evaluation:\n",
        "Assess the quality of generated 3D models using evaluation metrics such as Frechet Inception Distance (FID), Structural Similarity Index (SSIM), or human evaluation.\n",
        "Fine-tuning and Iteration:\n",
        "Fine-tune your model and experiment with different architectures, hyperparameters, and training strategies to improve performance."
      ],
      "metadata": {
        "id": "uXIJazi6jYvq"
      }
    },
    {
      "cell_type": "markdown",
      "source": [
        "\n",
        "Increasing the size of the voxel grid to (128, 128, 128) will have several implications:\n",
        "\n",
        "Increased Memory Usage: Larger voxel grids require more memory to store both during training and inference. This means you'll need more RAM or VRAM, depending on whether you're training on CPU or GPU, respectively.\n",
        "Higher Computational Complexity: With a larger grid, the number of voxels to process increases significantly. This leads to higher computational complexity for both the generator and discriminator networks, resulting in longer training times per iteration.\n",
        "Architecture Adjustments: The architectures of the generator and discriminator networks will need to be adjusted to accommodate the larger input and output dimensions. For example, you may need to increase the number of layers, filters, or neurons in the networks to handle the increased complexity.\n",
        "Training Stability: Larger voxel grids may lead to training instability, especially in the early stages of training. Techniques such as gradient clipping, batch normalization, and spectral normalization may be necessary to stabilize training.\n",
        "Data Requirements: Generating high-resolution voxel grids requires more detailed and diverse training data to capture the complexity of real-world objects accurately. Ensure that your dataset is large and varied enough to support training with the larger voxel grid size effectively.\n",
        "Evaluation Metrics: When evaluating the quality of generated models, consider using metrics that account for the increased resolution, such as voxel-based metrics or perceptual metrics like Frechet Inception Distance (FID) adapted for 3D data.\n",
        "Hardware Limitations: Finally, ensure that your hardware can handle the increased memory and computational demands of training with larger voxel grids. High-performance GPUs with ample VRAM are typically required for training deep learning models with large inputs.\n",
        "Overall, while increasing the voxel grid size to (128, 128, 128) may lead to higher-quality 3D model generation, it also comes with challenges related to memory usage, computational complexity, and training stability. Balancing these factors is essential for successful training and generation of high-fidelity 3D models."
      ],
      "metadata": {
        "id": "YOGjqVwCjsah"
      }
    },
    {
      "cell_type": "code",
      "source": [],
      "metadata": {
        "id": "Y-UTrx6zvFO7"
      },
      "execution_count": null,
      "outputs": []
    },
    {
      "cell_type": "code",
      "source": [
        "# Generator architecture\n",
        "class ConditionalGenerator(nn.Module):\n",
        "    super(ConditionalGenerator, self).__init__()\n",
        "        self.fc = nn.Sequential(\n",
        "            nn.Linear(latent_dim + noise_dim, 512),\n",
        "            nn.ReLU(True)\n",
        "        )\n",
        "        self.deconv = nn.Sequential(\n",
        "            nn.ConvTranspose3d(512, 256, kernel_size=4, stride=2, padding=1),\n",
        "            nn.BatchNorm3d(256),\n",
        "            nn.ReLU(True),\n",
        "            nn.ConvTranspose3d(256, 128, kernel_size=4, stride=2, padding=1),\n",
        "            nn.BatchNorm3d(128),\n",
        "            nn.ReLU(True),\n",
        "            nn.ConvTranspose3d(128, 64, kernel_size=4, stride=2, padding=1),\n",
        "            nn.BatchNorm3d(64),\n",
        "            nn.ReLU(True),\n",
        "            nn.ConvTranspose3d(64, 1, kernel_size=4, stride=2, padding=1),\n",
        "            nn.Sigmoid()  # or nn.Tanh(), depending on your data normalization\n",
        "        )\n",
        "\n",
        "\n",
        "    def forward(self, latent_description, noise):\n",
        "        x = torch.cat((latent_description, noise), 1)  # Concatenate latent description and noise\n",
        "        x = self.fc(x)\n",
        "        x = x.view(-1, 512, 1, 1, 1)  # Reshape to start the 3D volume\n",
        "        x = self.deconv(x)\n",
        "        return x\n"
      ],
      "metadata": {
        "id": "1diaEW1fvFLm"
      },
      "execution_count": null,
      "outputs": []
    },
    {
      "cell_type": "code",
      "source": [
        "class ConditionalDiscriminator(nn.Module):\n",
        "    def __init__(self, latent_dim):\n",
        "        super(ConditionalDiscriminator, self).__init__()\n",
        "        # Define the architecture for processing the voxel tensor\n",
        "        self.conv = nn.Sequential(\n",
        "            nn.Conv3d(1, 64, kernel_size=4, stride=2, padding=1),\n",
        "            nn.LeakyReLU(0.2, inplace=True),\n",
        "            nn.Conv3d(64, 128, kernel_size=4, stride=2, padding=1),\n",
        "            nn.BatchNorm3d(128),\n",
        "            nn.LeakyReLU(0.2, inplace=True),\n",
        "            nn.Conv3d(128, 256, kernel_size=4, stride=2, padding=1),\n",
        "            nn.BatchNorm3d(256),\n",
        "            nn.LeakyReLU(0.2, inplace=True),\n",
        "            nn.Dropout3d(0.4)\n",
        "        )\n",
        "        # Define the architecture for processing the latent description\n",
        "        self.fc_latent = nn.Sequential(\n",
        "            nn.Linear(latent_dim, 256),\n",
        "            nn.LeakyReLU(0.2, inplace=True)\n",
        "        )\n",
        "        # Combine the outputs from the voxel tensor and latent description\n",
        "        self.fc_combined = nn.Sequential(\n",
        "            nn.Linear(256 * 4 * 4 * 4 + 256, 1),\n",
        "            nn.Sigmoid()\n",
        "        )\n",
        "\n",
        "    def forward(self, voxel_tensor, latent_description):\n",
        "        voxel_features = self.conv(voxel_tensor)\n",
        "        voxel_features = voxel_features.view(-1, 256 * 4 * 4 * 4)  # Flatten the voxel features\n",
        "        latent_features = self.fc_latent(latent_description)  # Process the latent description\n",
        "        combined_features = torch.cat((voxel_features, latent_features), 1)  # Concatenate the features\n",
        "        validity = self.fc_combined(combined_features)  # Determine validity (real or fake)\n",
        "        return validity\n"
      ],
      "metadata": {
        "id": "yNM46hjBvK00"
      },
      "execution_count": null,
      "outputs": []
    },
    {
      "cell_type": "code",
      "source": [
        "generator = ConditionalGenerator(1024)\n",
        "summary(generator, (1,1024))"
      ],
      "metadata": {
        "id": "yFP4eSTrvbas"
      },
      "execution_count": null,
      "outputs": []
    },
    {
      "cell_type": "code",
      "source": [
        "discriminator = ConditionalDiscriminator()\n",
        "summary(discriminator,(1,32,32,32) ,(1,1024))"
      ],
      "metadata": {
        "id": "rnmnVLaMvbXL"
      },
      "execution_count": null,
      "outputs": []
    }
  ]
}